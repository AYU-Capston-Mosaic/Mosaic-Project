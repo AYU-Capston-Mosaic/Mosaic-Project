{
  "nbformat": 4,
  "nbformat_minor": 0,
  "metadata": {
    "colab": {
      "provenance": [],
      "toc_visible": true,
      "authorship_tag": "ABX9TyNaa+mYvQ8LNlDLwlOmG3lR",
      "include_colab_link": true
    },
    "kernelspec": {
      "name": "python3",
      "display_name": "Python 3"
    },
    "language_info": {
      "name": "python"
    }
  },
  "cells": [
    {
      "cell_type": "markdown",
      "metadata": {
        "id": "view-in-github",
        "colab_type": "text"
      },
      "source": [
        "<a href=\"https://colab.research.google.com/github/IP-Capston-Mosaic/IP-Capston-Mosaic/blob/yejin/pdf2img.ipynb\" target=\"_parent\"><img src=\"https://colab.research.google.com/assets/colab-badge.svg\" alt=\"Open In Colab\"/></a>"
      ]
    },
    {
      "cell_type": "code",
      "execution_count": null,
      "metadata": {
        "id": "6l1xYcsQSQ5d"
      },
      "outputs": [],
      "source": [
        "#aspose 활용\n",
        "\n",
        "\"\"\"import aspose.pdf as ap\n",
        "\n",
        "input_pdf = DIR_INPUT + \"many_pages.pdf\"\n",
        "output_pdf = DIR_OUTPUT + \"convert_pdf_to_jpeg\"\n",
        "\n",
        "# PDF 문서 열기\n",
        "document = ap.Document(input_pdf)\n",
        "\n",
        "# 해결 개체 만들기\n",
        "resolution = ap.devices.Resolution(300)\n",
        "device = ap.devices.JpegDevice(resolution)\n",
        "\n",
        "for i in range(0, len(document.pages)):\n",
        "    # 저장할 파일 생성\n",
        "    imageStream = io.FileIO(\n",
        "        output_pdf + \"_page_\" + str(i + 1) + \"_out.jpeg\", \"x\"\n",
        "    )\n",
        "    \n",
        "    # 특정 페이지를 변환하고 이미지를 스트리밍에 저장\n",
        "    device.process(document.pages[i + 1], imageStream)\n",
        "    imageStream.close()\"\"\""
      ]
    },
    {
      "cell_type": "code",
      "source": [
        "#pdf2image 활용\n",
        "\n",
        "\"\"\"from pdf2image import convert_from_path\n",
        "\n",
        "images = convert_from_path(\n",
        "    'my_pdf_file.pdf', poppler_path=r\"Release-23.01.0-0\\poppler-23.01.0\\Library\\bin\")\n",
        "    #poppler 라이브러리 설치가 되어야 함\n",
        "    #오류 해결 필요\n",
        "\n",
        "for i in range(len(images)):\n",
        "    images[i].save(f'image_{i+1}.jpg', 'JPEG')\n",
        "    #jpg 파일이라면 .jpg, 'JPEG' 로 바꾸면 됨\"\"\""
      ],
      "metadata": {
        "id": "lalUeNlDsBbe"
      },
      "execution_count": null,
      "outputs": []
    },
    {
      "cell_type": "code",
      "source": [
        "\"\"\"\n",
        "def resource_path(relative_path):\n",
        "    base_path = getattr(sys, '_MEIPASS', os.path.dirname(os.path.abspath(__file__)))\n",
        "    return os.path.join(base_path, relative_path)\n",
        "    \n",
        "# 이미지를 jpg로 바꾸는 함수 정의 \n",
        "def convert_pdf_to_image(input_path, save_path):\n",
        "    abs_input_path = os.path.abspath(input_path)\n",
        "    abs_save_path = os.path.abspath(save_path)\n",
        "    splits_path = abs_input_path.split('\\\\')\n",
        "    file_name = splits_path[len(splits_path) - 1]\n",
        "                      \n",
        "    # split 저장할 파일명\n",
        "    sub_index = len(file_name) - 4\n",
        "    save_file_name = file_name[:sub_index]\n",
        "    \n",
        "    path = resource_path('lib\\\\poppler-22.04.0\\\\bin')\n",
        "    images = convert_from_path(abs_input_path, dpi=600, thread_count=4, poppler_path = path)\n",
        "      \n",
        "    # 저장할 폴더 없는 경우 생성\n",
        "    if (os.path.exists(abs_save_path) == False):\n",
        "        os.mkdir(abs_save_path)\n",
        "     \n",
        "    image_count = len(images)\n",
        "    for i in range(image_count):\n",
        "        images[i].save(abs_save_path + \"\\\\\" + save_file_name + '_' + str(i + 1) +'.jpg', 'JPEG')\"\"\""
      ],
      "metadata": {
        "id": "rDJy_d5ksD6_"
      },
      "execution_count": null,
      "outputs": []
    },
    {
      "cell_type": "code",
      "source": [
        "#pdf2jpg 활용\n",
        "\n",
        "\"\"\"from pdf2jpg import pdf2jpg\n",
        "\n",
        "inputpath = r\"pdf_file.pdf\"\n",
        "outputpath = r\"\"\n",
        "result = pdf2jpg.convert_pdf2jpg(inputpath, outputpath, pages=\"ALL\")\n",
        "#pdf 및 이미지에 대한 입출력 경로를 각각 제공해야 함. \n",
        "\"\"\""
      ],
      "metadata": {
        "id": "dvRnJKw_sJmm"
      },
      "execution_count": null,
      "outputs": []
    },
    {
      "cell_type": "code",
      "source": [
        "#pydfium2 활용\n",
        "\n",
        "\"\"\"import pypdfium2 as pdfium\n",
        "\n",
        "pdf = pdfium.PdfDocument(\"pdf_file.pdf\")\n",
        "n_pages = len(pdf)\n",
        "for page_number in range(n_pages):\n",
        "    page = pdf.get_page(page_number)\n",
        "    pil_image = page.render_topil(\n",
        "        scale = 1,\n",
        "        rotation = 0,\n",
        "        crop = (0, 0, 0, 0),\n",
        "        colour = (255, 255, 255, 255),\n",
        "        annotations = True,\n",
        "        greyscale = False,\n",
        "        optimise_mode = pdfium.OptimiseMode.NONE,\n",
        "    )\n",
        "    pil_image.save(f\"image_{page_number+1}.png\")\"\"\""
      ],
      "metadata": {
        "id": "VJNj0IrhsWnG"
      },
      "execution_count": null,
      "outputs": []
    },
    {
      "cell_type": "code",
      "source": [
        "#PyMuPDF 활용\n",
        "\n",
        "\"\"\"import fitz\n",
        "\n",
        "pdffile = \"my_pdf_file.pdf\"\n",
        "doc = fitz.open(pdffile)\n",
        "zoom = 4\n",
        "mat = fitz.Matrix(zoom, zoom)\n",
        "count = 0\n",
        "\n",
        "for p in doc:\n",
        "    count += 1\n",
        "for i in range(count):\n",
        "    val = f\"image_{i+1}.png\"\n",
        "    page = doc.load_page(i)\n",
        "    pix = page.get_pixmap(matrix=mat)\n",
        "    pix.save(val)\n",
        "doc.close()\"\"\""
      ],
      "metadata": {
        "id": "tHHyLMVksYQI"
      },
      "execution_count": null,
      "outputs": []
    }
  ]
}